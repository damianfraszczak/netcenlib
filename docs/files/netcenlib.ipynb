{
 "cells": [
  {
   "cell_type": "markdown",
   "source": [
    "# Introduction to NetCenLib: Network Centrality Library\n",
    " NetCenLib (Network centrality library) is a tool to compute a wide range of centrality measures for a given network. The library is designed to work with Python Networkx library.\n",
    "\n",
    "The goal of NetCenLib is to offer a comprehensive repository for implementing a broad spectrum of centrality measures. Each year, new measures are introduced through scientific papers, often with only pseudo-code descriptions, making it difficult for researchers to evaluate and compare them with existing methods. While implementations of well-known centrality measures exist, recent innovations are frequently absent. NetCenLib strives to bridge this gap. It references the renowned CentiServer portal for well-known centrality measures and their originating papers, aiming to encompass all these measures in the future."
   ],
   "metadata": {
    "collapsed": false
   },
   "id": "8201518347de614b"
  },
  {
   "cell_type": "markdown",
   "source": [
    "## Table of Contents\n",
    "\n",
    "### 1. [Installation](#Installation)\n",
    "### 2. [Usage](#Usage)\n",
    "### 3. [Centrality Measures](#Centrality-Measures)\n"
   ],
   "metadata": {
    "collapsed": false
   },
   "id": "d8258e3ea1ca90fc"
  },
  {
   "cell_type": "markdown",
   "source": [
    "## Installation\n",
    "To install NetCenLib, you can use pip:\n",
    "```bash\n",
    "pip install netcenlib\n",
    "```"
   ],
   "metadata": {
    "collapsed": false
   },
   "id": "58bcba1df3d0e49c"
  },
  {
   "cell_type": "markdown",
   "source": [],
   "metadata": {
    "collapsed": false
   },
   "id": "de8ad740812112a0"
  },
  {
   "cell_type": "markdown",
   "source": [
    "## Usage\n",
    "To use NetCenLib, you need to import the library and create a networkx graph. Then, you can use the library to compute the centrality measures. Here is an example of how to use NetCenLib:\n",
    "```python\n",
    "import networkx as nx\n",
    "import netcenlib as ncl\n",
    "\n",
    "# Create a graph\n",
    "G = nx.karate_club_graph()\n",
    "\n",
    "# Compute degree centrality\n",
    "degree_centrality = ncl.degree_centrality(G)\n",
    "\n",
    "# Compute betweenness centrality\n",
    "betweenness_centrality = ncl.betweenness_centrality(G)\n",
    "\n",
    "# Compute closeness centrality\n",
    "closeness_centrality = ncl.closeness_centrality(G)\n",
    "\n",
    "# Compute eigenvector centrality\n",
    "eigenvector_centrality = ncl.eigenvector_centrality(G)\n",
    "```\n",
    "The library returns a dictionary with the node IDs as keys and the centrality scores as values.\n",
    "\n",
    "You can also use the library to compute multiple centrality measures at once:\n",
    "```python\n",
    "import networkx as nx\n",
    "import netcenlib as ncl\n",
    "\n",
    "# Create a graph\n",
    "G = nx.karate_club_graph()\n",
    "\n",
    "# Compute multiple centrality measures\n",
    "centrality_measures = ncl.compute_centrality_measures(G)\n",
    "```\n",
    "The library returns a dictionary with the centrality measures as keys and the centrality scores as values.\n",
    "\n",
    "For more information, please refer to the [documentation](https://netcenlib.readthedocs.io/en/latest/)."
   ],
   "metadata": {
    "collapsed": false
   },
   "id": "ab4a1d2e53d17656"
  },
  {
   "cell_type": "markdown",
   "source": [
    "## Centrality Measures\n",
    "NetCenLib supports the following centrality measures:\n",
    "- Degree Centrality\n",
    "- Closeness Centrality\n",
    "- Betweenness Centrality\n",
    "- Eigenvector Centrality\n",
    "- Katz Centrality\n",
    "- PageRank Centrality\n",
    "- Communicability Betweenness Centrality\n",
    "- Information Centrality\n",
    "- Load Centrality\n",
    "- Harmonic Centrality\n",
    "- Katz Status Index\n",
    "- Local Rank Centrality\n",
    "- Percolation Centrality\n",
    "- Random Walk Betweenness Centrality\n",
    "- Subgraph Centrality\n",
    "- Current Flow Betweenness Centrality\n",
    "- Current Flow Closeness Centrality\n",
    "- Random Walk Closeness Centrality\n",
    "- Group Centrality\n",
    "- Bridging Centrality\n",
    "- Cross Clustering Centrality\n",
    "- Leader Rank Centrality\n",
    "- Edge Clustering Coefficient\n",
    "- Communicability Centrality\n",
    "- Edge Communicability Centrality\n",
    "- Information Centrality\n",
    "- Normalized Total Communicability Centrality\n",
    "- Group Degree Centrality\n",
    "- Group Closeness Centrality\n",
    "- Group Betweenness\n",
    "- \n"
   ],
   "metadata": {
    "collapsed": false
   },
   "id": "b69ead6658dc6ca"
  }
 ],
 "metadata": {
  "kernelspec": {
   "display_name": "Python 3",
   "language": "python",
   "name": "python3"
  },
  "language_info": {
   "codemirror_mode": {
    "name": "ipython",
    "version": 2
   },
   "file_extension": ".py",
   "mimetype": "text/x-python",
   "name": "python",
   "nbconvert_exporter": "python",
   "pygments_lexer": "ipython2",
   "version": "2.7.6"
  }
 },
 "nbformat": 4,
 "nbformat_minor": 5
}
