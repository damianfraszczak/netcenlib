{
 "cells": [
  {
   "cell_type": "markdown",
   "id": "8201518347de614b",
   "metadata": {
    "collapsed": false
   },
   "source": [
    "# Introduction to NetCenLib: Network Centrality Library\n",
    " NetCenLib (Network centrality library) is a tool to compute a wide range of centrality measures for a given network. The library is designed to work with Python Networkx library.\n",
    "\n",
    "The goal of NetCenLib is to offer a comprehensive repository for implementing a broad spectrum of centrality measures. Each year, new measures are introduced through scientific papers, often with only pseudo-code descriptions, making it difficult for researchers to evaluate and compare them with existing methods. While implementations of well-known centrality measures exist, recent innovations are frequently absent. NetCenLib strives to bridge this gap. It references the renowned CentiServer portal for well-known centrality measures and their originating papers, aiming to encompass all these measures in the future."
   ]
  },
  {
   "cell_type": "markdown",
   "id": "d8258e3ea1ca90fc",
   "metadata": {
    "collapsed": false
   },
   "source": [
    "## Table of Contents\n",
    "\n",
    "### 1. [Installation](#Installation)\n",
    "### 2. [Usage](#Usage)\n",
    "### 3. [Conclusion](#Conclusion)\n"
   ]
  },
  {
   "cell_type": "markdown",
   "id": "58bcba1df3d0e49c",
   "metadata": {
    "collapsed": false
   },
   "source": [
    "## Installation\n",
    "To install NetCenLib, you can use pip:\n"
   ]
  },
  {
   "cell_type": "code",
   "id": "b381088ebcc58325",
   "metadata": {
    "collapsed": false
   },
   "outputs": [],
   "source": [
    "!pip install netcenlib\n",
    "!pip install matplotlib"
   ]
  },
  {
   "cell_type": "markdown",
   "id": "8715072a02f0319f",
   "metadata": {
    "collapsed": false
   },
   "source": [
    "## Usage\n",
    "To use NetCenLib, you need to import the library and create a networkx graph. Then, you can use the library to compute the centrality measures. Here is an example of how to use NetCenLib:\n"
   ]
  },
  {
   "cell_type": "code",
   "id": "61b29b2237c37c42",
   "metadata": {
    "collapsed": false
   },
   "outputs": [],
   "source": [
    "import networkx as nx\n",
    "import netcenlib as ncl\n",
    "import matplotlib.pyplot as plt"
   ]
  },
  {
   "cell_type": "markdown",
   "id": "c95770f04bb13de1",
   "metadata": {
    "collapsed": false
   },
   "source": [
    "## Creating a Graph\n",
    "We'll use a built-in NetworkX graph for demonstration purposes.\n"
   ]
  },
  {
   "cell_type": "code",
   "id": "c4b54fc0cad454ca",
   "metadata": {
    "ExecuteTime": {
     "start_time": "2024-02-22T10:24:27.617857700Z"
    },
    "collapsed": false
   },
   "outputs": [],
   "source": [
    "G = nx.karate_club_graph()"
   ]
  },
  {
   "cell_type": "markdown",
   "id": "c9cda74e41bf6f7e",
   "metadata": {
    "collapsed": false
   },
   "source": [
    "## Computing Centrality Measures\n",
    "\n",
    "Let's compute a few centrality measures using both direct function calls and the `compute_centrality` method.\n"
   ]
  },
  {
   "cell_type": "code",
   "id": "c6aed6b640d14f6c",
   "metadata": {
    "ExecuteTime": {
     "start_time": "2024-02-22T10:24:27.617857700Z"
    },
    "collapsed": false
   },
   "outputs": [],
   "source": [
    "# Direct function calls\n",
    "degree_centrality = ncl.degree_centrality(G)\n",
    "betweenness_centrality = ncl.betweenness_centrality(G)\n",
    "\n",
    "# Using compute_centrality method\n",
    "from netcenlib.centrality import compute_centrality\n",
    "from netcenlib.taxonomies import Centrality\n",
    "\n",
    "closeness_centrality = compute_centrality(G, Centrality.CLOSENESS)\n",
    "eigenvector_centrality = compute_centrality(G, Centrality.EIGENVECTOR)\n"
   ]
  },
  {
   "cell_type": "markdown",
   "id": "54dfcb3b5db9fa55",
   "metadata": {
    "collapsed": false
   },
   "source": [
    "## Visualization of Degree Centrality\n",
    "\n",
    "Now, let's visualize the degree centrality of our graph.\n"
   ]
  },
  {
   "cell_type": "code",
   "id": "94ab78fa7659e69f",
   "metadata": {
    "ExecuteTime": {
     "start_time": "2024-02-22T10:24:27.619004100Z"
    },
    "collapsed": false
   },
   "outputs": [],
   "source": [
    "pos = nx.spring_layout(G)  # positions for all nodes\n",
    "\n",
    "# scaling the node sizes by degree centrality\n",
    "sizes = [800 * v for v in degree_centrality.values()]\n",
    "\n",
    "nx.draw(G, pos, with_labels=True, node_size=sizes, edge_color=\"gray\", alpha=0.4, linewidths=2)\n",
    "plt.title(\"Degree Centrality Visualization\")\n",
    "plt.show()\n"
   ]
  },
  {
   "cell_type": "markdown",
   "id": "92c70d79aff2b146",
   "metadata": {
    "collapsed": false
   },
   "source": [
    "## Conclusion\n",
    "\n",
    "In this notebook, we introduced basic usage of NetCenLib for computing and visualizing centrality measures in networks. For more detailed examples and advanced features, refer to the NetCenLib documentation and the [Jupyter Notebook](netcenlib.ipynb) available in the repository.\n"
   ]
  },
  {
   "cell_type": "markdown",
   "id": "b69ead6658dc6ca",
   "metadata": {
    "collapsed": false
   },
   "source": []
  }
 ],
 "metadata": {
  "kernelspec": {
   "display_name": "Python 3",
   "language": "python",
   "name": "python3"
  },
  "language_info": {
   "codemirror_mode": {
    "name": "ipython",
    "version": 2
   },
   "file_extension": ".py",
   "mimetype": "text/x-python",
   "name": "python",
   "nbconvert_exporter": "python",
   "pygments_lexer": "ipython2",
   "version": "2.7.6"
  }
 },
 "nbformat": 4,
 "nbformat_minor": 5
}
